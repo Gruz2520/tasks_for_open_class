{
 "cells": [
  {
   "cell_type": "markdown",
   "metadata": {},
   "source": [
    "# TASK 2"
   ]
  },
  {
   "cell_type": "markdown",
   "metadata": {},
   "source": [
    "## Material Project Dataset"
   ]
  },
  {
   "cell_type": "markdown",
   "metadata": {},
   "source": [
    "[Material Project](https://next-gen.materialsproject.org/) это одна из самых больших открытых баз данных с открытом доступом. Позволяет прогнозировать использование материалов в будущем. Предлагает огромный набор свойств. Мы рассмотрим небольшую часть этой базы данных, а конкретнее датасет MP-20. "
   ]
  },
  {
   "cell_type": "markdown",
   "metadata": {},
   "source": [
    "MP-20 включает **X** общих неорганический материал, различающийся как по структуре, так и по составу. В него входят **Y**  элементов, а в элементарных ячейках материалов содержится от 1 до 20 атомов. MP-20 охватывает почти все экспериментально идентифицированные материалы с не более чем 20 атомами в элементарных ячейках, все из которых можно синтезировать экспериментальными методами"
   ]
  },
  {
   "cell_type": "markdown",
   "metadata": {},
   "source": [
    "1) Помогите заполнить пропуски в тексте, используя информацию из датасета."
   ]
  },
  {
   "cell_type": "code",
   "execution_count": null,
   "metadata": {},
   "outputs": [],
   "source": [
    "import pandas as pd\n",
    "import matplotlib.pyplot as plt"
   ]
  },
  {
   "cell_type": "code",
   "execution_count": null,
   "metadata": {},
   "outputs": [],
   "source": [
    "data = ..."
   ]
  },
  {
   "cell_type": "code",
   "execution_count": null,
   "metadata": {},
   "outputs": [],
   "source": [
    "X = ...\n",
    "Y = ..."
   ]
  },
  {
   "cell_type": "markdown",
   "metadata": {},
   "source": [
    "## Теперь давайте что-нибудь нарисуем"
   ]
  },
  {
   "cell_type": "markdown",
   "metadata": {},
   "source": [
    "Научимся визуализировать что-нибудь трехмерное и сложное. Здесь представлена визуализация, используя ванильный matplotlib, чтобы показать код, как можно построить в трехмерном пространстве даже что-нибудь сложное. Задание состоит в том, чтобы добавить в заголовок графика информацию об энергии всей молекулы."
   ]
  },
  {
   "cell_type": "code",
   "execution_count": null,
   "metadata": {},
   "outputs": [],
   "source": [
    "import matplotlib.pyplot as plt\n",
    "from mpl_toolkits.mplot3d import Axes3D\n",
    "\n",
    "def parse_cif_string(cif_string):\n",
    "    \"\"\"\n",
    "    Парсит CIF-строку и извлекает координаты атомов.\n",
    "\n",
    "    :param cif_string: Строка, содержащая CIF-данные.\n",
    "    :return: Список кортежей (элемент, x, y, z).\n",
    "    \"\"\"\n",
    "    atoms = []\n",
    "    lines = cif_string.split(\"\\n\")\n",
    "    atom_section = False\n",
    "\n",
    "    for line in lines:\n",
    "        if \"_atom_site_fract_x\" in line:\n",
    "            atom_section = True\n",
    "            continue\n",
    "        if atom_section:\n",
    "            if not line.strip():\n",
    "                break\n",
    "            parts = line.split()\n",
    "            if len(parts) >= 5:\n",
    "                label, element, x, y, z = parts[0], parts[1], float(parts[2]), float(parts[3]), float(parts[4])\n",
    "                atoms.append((element, x, y, z))\n",
    "\n",
    "    return atoms\n",
    "\n",
    "def visualize_molecule_with_matplotlib(cif_string):\n",
    "    \"\"\"\n",
    "    Визуализирует молекулу по её CIF-строке с использованием matplotlib (3D-график).\n",
    "\n",
    "    :param cif_string: Строка, содержащая CIF-данные.\n",
    "    \"\"\"\n",
    "    atoms = parse_cif_string(cif_string)\n",
    "\n",
    "    fig = plt.figure()\n",
    "    ax = fig.add_subplot(111, projection='3d')\n",
    "\n",
    "    for atom in atoms:\n",
    "        element, x, y, z = atom\n",
    "        ax.scatter(x, y, z, s=100, label=element)\n",
    "\n",
    "    ax.set_xlabel('X')\n",
    "    ax.set_ylabel('Y')\n",
    "    ax.set_zlabel('Z')\n",
    "    plt.title(\"3D-визуализация молекулы\")\n",
    "    plt.legend()\n",
    "    plt.show()"
   ]
  },
  {
   "cell_type": "code",
   "execution_count": null,
   "metadata": {},
   "outputs": [],
   "source": [
    "visualize_molecule_with_matplotlib(data.iloc[5]['cif'])"
   ]
  }
 ],
 "metadata": {
  "kernelspec": {
   "display_name": ".venv",
   "language": "python",
   "name": "python3"
  },
  "language_info": {
   "codemirror_mode": {
    "name": "ipython",
    "version": 3
   },
   "file_extension": ".py",
   "mimetype": "text/x-python",
   "name": "python",
   "nbconvert_exporter": "python",
   "pygments_lexer": "ipython3",
   "version": "3.11.7"
  }
 },
 "nbformat": 4,
 "nbformat_minor": 2
}
