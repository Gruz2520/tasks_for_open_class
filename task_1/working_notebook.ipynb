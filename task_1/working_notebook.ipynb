{
 "cells": [
  {
   "cell_type": "markdown",
   "metadata": {},
   "source": [
    "# TASK 1"
   ]
  },
  {
   "cell_type": "markdown",
   "metadata": {},
   "source": [
    "## HealthDataset"
   ]
  },
  {
   "cell_type": "markdown",
   "metadata": {},
   "source": [
    "Каждый столбец содержит конкретную информацию о пациенте, его приеме и оказанных медицинских услугах, что делает этот набор данных пригодным для решения различных задач анализа и моделирования данных в сфере здравоохранения."
   ]
  },
  {
   "cell_type": "markdown",
   "metadata": {},
   "source": [
    "- Name: Этот столбец представляет собой имя пациента, связанное с медицинской картой.\n",
    "- Age: возраст пациента на момент поступления, выраженный в годах.\n",
    "- Gender: Указывает пол пациента, либо \"Male\" либо \"Female.\"\n",
    "- Blood Type: Группа крови пациента, которая может быть одной из распространенных групп крови (например, \"A+\", \"O-\", и другие).\n",
    "- Medical Condition: В этом столбце указывается основное медицинское состояние или диагноз, связанный с пациентом, например \"Diabetes,\" \"Hypertension,\" \"Asthma,\" и другие.\n",
    "- Date of Admission: Дата, когда пациент был принят в медицинское учреждение.\n",
    "- Doctor: Имя врача, ответственного за уход за пациентом во время его госпитализации.\n",
    "- Hospital: Указывается медицинское учреждение или больница, в которую был помещен пациент.\n",
    "- Insurance Provider: В этой колонке указывается страховая компания пациента, которая может быть одной из нескольких, включая \"Aetna,\" \"Blue Cross,\" \"Cigna,\" \"UnitedHealthcare,\" и \"Medicare.\"\n",
    "- Billing Amount: Сумма денег, выставленная за медицинские услуги, оказанные пациенту во время приема. Выражается в виде числа с плавающей точкой.\n",
    "- Room Number: Номер палаты, в которой пациент находился во время приема.\n",
    "- Admission Type: Указывает тип поступления, который может быть \"Emergency,\" \"Elective,\" или \"Urgent,\"  что отражает обстоятельства поступления.\n",
    "- Discharge Date: Дата выписки пациента из медицинского учреждения, основанная на дате поступления и случайном количестве дней в пределах реалистичного диапазона.\n",
    "- Medication: Указывает лекарство, назначенное или принятое пациентом во время приема. Например, \"Aspirin,\" \"Ibuprofen,\" \"Penicillin,\" \"Paracetamol,\" и \"Lipitor.\"\n",
    "- Test Results: Описывает результаты медицинского теста, проведенного во время приема пациента. Возможные значения:  \"Normal,\" \"Abnormal,\" или \"Inconclusive,\" iчто указывает на результат теста."
   ]
  },
  {
   "cell_type": "markdown",
   "metadata": {},
   "source": [
    "## Пора размяться"
   ]
  },
  {
   "cell_type": "markdown",
   "metadata": {},
   "source": [
    "В этом блоке требуется дать ответ на вопрос без графиков"
   ]
  },
  {
   "cell_type": "code",
   "execution_count": null,
   "metadata": {},
   "outputs": [],
   "source": [
    "import pandas as pd\n",
    "import matplotlib.pyplot as plt"
   ]
  },
  {
   "cell_type": "code",
   "execution_count": null,
   "metadata": {},
   "outputs": [],
   "source": [
    "# тут типа данные получаем\n",
    "data = ..."
   ]
  },
  {
   "cell_type": "markdown",
   "metadata": {},
   "source": [
    "1) Сколько уникальных больниц включено в набор данных?"
   ]
  },
  {
   "cell_type": "code",
   "execution_count": null,
   "metadata": {},
   "outputs": [],
   "source": [
    "unique_hospitals_count = ..."
   ]
  },
  {
   "cell_type": "markdown",
   "metadata": {},
   "source": [
    "2) Какая группа крови наиболее распространена среди пациентов? Назовите группу крови."
   ]
  },
  {
   "cell_type": "code",
   "execution_count": null,
   "metadata": {},
   "outputs": [],
   "source": [
    "most_common_blood_type = ..."
   ]
  },
  {
   "cell_type": "markdown",
   "metadata": {},
   "source": [
    "## Чуточку сложнее"
   ]
  },
  {
   "cell_type": "markdown",
   "metadata": {},
   "source": [
    "В этом блоке требуется предоставить график, обоснующий полученный ответ"
   ]
  },
  {
   "cell_type": "markdown",
   "metadata": {},
   "source": [
    "3) Существуют ли сезонные тенденции в госпитализации?\\\n",
    "Постройте график, отображающий количество поступивших больных за каждый месяц в течении всего временного промежутка и ответьте на вопрос по графику."
   ]
  },
  {
   "cell_type": "code",
   "execution_count": null,
   "metadata": {},
   "outputs": [],
   "source": []
  },
  {
   "cell_type": "markdown",
   "metadata": {},
   "source": [
    "## Типа хард"
   ]
  },
  {
   "cell_type": "markdown",
   "metadata": {},
   "source": [
    "В этом блоке требуется предоставить как ответ, так и график"
   ]
  },
  {
   "cell_type": "markdown",
   "metadata": {},
   "source": [
    "4) Каковы три наиболее распространенных медицинских состояния, с которыми поступают пациенты?\\\n",
    "Постройте график, отображающий среднее время нахождения каждого человека с этими тремя медицинскими состояниями"
   ]
  },
  {
   "cell_type": "code",
   "execution_count": null,
   "metadata": {},
   "outputs": [],
   "source": []
  }
 ],
 "metadata": {
  "kernelspec": {
   "display_name": ".venv",
   "language": "python",
   "name": "python3"
  },
  "language_info": {
   "codemirror_mode": {
    "name": "ipython",
    "version": 3
   },
   "file_extension": ".py",
   "mimetype": "text/x-python",
   "name": "python",
   "nbconvert_exporter": "python",
   "pygments_lexer": "ipython3",
   "version": "3.11.7"
  }
 },
 "nbformat": 4,
 "nbformat_minor": 2
}
